{
 "cells": [
  {
   "cell_type": "markdown",
   "metadata": {},
   "source": [
    "## Generalized Linear Models"
   ]
  },
  {
   "cell_type": "markdown",
   "metadata": {},
   "source": [
    "Both linear regression - \n",
    "$$\n",
    "y|x;\\theta \\sim N(\\mu, \\sigma^2)\n",
    "$$\n",
    "and logistic regression (binary classification)  - \n",
    "$$\n",
    "y|x;\\theta \\sim Bernoulli(\\phi)\n",
    "$$\n",
    "are special cases of broader family of models, called Generalized Linear Models (GLMs). \n"
   ]
  },
  {
   "cell_type": "markdown",
   "metadata": {},
   "source": [
    "### Exponential Family of distribution\n",
    "\n",
    "Class of distributions belongs in the exponential family of distribution if - \n",
    "$$\n",
    "p(y;\\eta) = b(y)exp(\\eta^TT(y) - a(\\eta))\n",
    "$$\n",
    "\n",
    "- $\\eta$ - natural/canonical parameter\n",
    "- $T(y)$ - sufficient statistic of y ($T(y) = y$ most of the times)\n",
    "- $a(\\eta)$ - log partition function (normalization constant)\n",
    "\n",
    "For a fixed choice of $T$, $a$ and $b$ we get a specific family of exponential distribution, we get different distributions belonging to this family by varying $\\eta$.\n",
    "\n",
    "Bernoulli distribution belongs to the exponential family of distribution - \n",
    "$$\\begin{align*}\n",
    "p(y;\\phi) &= \\phi^y(1-\\phi)^{(1-y)} \\\\\n",
    "&= exp(ln(\\phi^y(1-\\phi)^{1-y})) \\\\\n",
    "&= exp(ln(\\frac{\\phi}{1-\\phi})y + ln(1 - \\phi))\n",
    "\\end{align*}\n",
    "$$\n",
    "\n",
    "- $T(y) = y$\n",
    "- $\\eta = ln(\\frac{\\phi}{1-\\phi})$\n",
    "- $\\phi = \\frac{1}{1 + e^{-\\eta}}$\n",
    "- $b(y) = 1$\n",
    "- $a(\\eta) = -ln(1 - \\phi) = ln(1 + e^\\eta)$\n",
    "\n",
    "Gaussian Distribution belongs to the exponential family of distribution as well. As the optimal value of $\\theta$ or $h(\\theta)$ doesn't depend on the value of $\\sigma^2$ we can choose it be of a constant value. Let $\\sigma^2 = 1$ \n",
    "$$\\begin{align*}\n",
    "p(y;\\mu) &= \\frac{1}{\\sqrt{2\\pi}}exp(-\\frac{1}{2}(y - \\mu)^2)\\\\\n",
    "&= \\frac{1}{\\sqrt{2\\pi}}exp(-\\frac{1}{2}y^2)exp(y\\mu - \\frac{1}{2}\\mu^2)\n",
    "\\end{align*}\n",
    "$$ \n",
    "\n",
    "- $T(y) = y$\n",
    "- $\\eta = \\mu$\n",
    "- $b(y) = \\frac{1}{\\sqrt{2\\pi}}exp(-\\frac{1}{2}y^2)$\n",
    "- $a(\\eta) = \\frac{1}{2}{\\eta^2}$ \n"
   ]
  },
  {
   "cell_type": "markdown",
   "metadata": {},
   "source": []
  }
 ],
 "metadata": {
  "kernelspec": {
   "display_name": "gml",
   "language": "python",
   "name": "python3"
  },
  "language_info": {
   "codemirror_mode": {
    "name": "ipython",
    "version": 3
   },
   "file_extension": ".py",
   "mimetype": "text/x-python",
   "name": "python",
   "nbconvert_exporter": "python",
   "pygments_lexer": "ipython3",
   "version": "3.8.16"
  }
 },
 "nbformat": 4,
 "nbformat_minor": 2
}
