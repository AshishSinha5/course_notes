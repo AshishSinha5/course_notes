{
 "cells": [
  {
   "cell_type": "markdown",
   "metadata": {},
   "source": [
    "# Kernel Methods\n",
    "\n",
    "## Feature Maps \n",
    "\n",
    "In the case of Linear Regression, we fit a linear function of $x$ w.r.t the training data. What if we wanted to fit a cubic function - \n",
    "$$\n",
    "y = \\theta_0 + \\theta_1x + \\theta_2x^2 + \\theta_3x^3\n",
    "$$\n",
    "\n",
    "Let us define - \n",
    "$$\n",
    "\\phi_(x) = \n",
    "\\left[\\begin{array}{c}\n",
    "1 \\\\\n",
    "x \\\\\n",
    "x^2 \\\\\n",
    "x^3\n",
    "\\end{array}\\right]\n",
    "$$\n",
    "\n",
    "$$\n",
    "\\therefore y = \\theta^T\\phi(x)\n",
    "$$\n",
    "\n",
    "Terminology - \n",
    "- Attribute - The \"original\" input value to the model. e.g. $x$ - living area.\n",
    "- Features - Mapped set of values of the original attribute.\n",
    "- Feature Map - $\\phi$\n",
    "\n",
    "## LMS (least mean squares) with features\n",
    "\n",
    "In the case of set of available features via a feature map $\\phi : \\mathcal{R}^d \\rightarrow \\mathcal{R}^p$, we calculate the update rule by replacing all the occurrences of $x^{(i)}$ with $\\phi(x^{(i)})$ in the following formula - \n",
    "$$\n",
    "\\theta := \\theta + \\alpha\\Sigma_{i=1}^{n}(y^{(i)} - \\theta^Tx^{(i)})x^{(i)}\n",
    "$$\n",
    "\n",
    "$\\therefore$ We have the following update rule - \n",
    "$$\n",
    "\\theta := \\theta + \\alpha\\Sigma_{i=1}^{n}(y^{(i)} - \\theta^T\\phi(x^{(i)}))\\phi(x^{(i)})\n",
    "$$\n",
    "\n",
    "## LMS with Kernel Trick\n",
    "\n"
   ]
  },
  {
   "cell_type": "markdown",
   "metadata": {},
   "source": []
  }
 ],
 "metadata": {
  "language_info": {
   "name": "python"
  }
 },
 "nbformat": 4,
 "nbformat_minor": 2
}
