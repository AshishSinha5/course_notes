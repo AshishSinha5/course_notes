{
 "cells": [
  {
   "cell_type": "code",
   "execution_count": 1,
   "metadata": {},
   "outputs": [],
   "source": [
    "import numpy as np\n",
    "import pandas as pd\n",
    "import matplotlib.pyplot as plt"
   ]
  },
  {
   "cell_type": "markdown",
   "metadata": {},
   "source": [
    "Let us look at our house pricing dataset again."
   ]
  },
  {
   "cell_type": "code",
   "execution_count": 3,
   "metadata": {},
   "outputs": [
    {
     "data": {
      "text/html": [
       "<div>\n",
       "<style scoped>\n",
       "    .dataframe tbody tr th:only-of-type {\n",
       "        vertical-align: middle;\n",
       "    }\n",
       "\n",
       "    .dataframe tbody tr th {\n",
       "        vertical-align: top;\n",
       "    }\n",
       "\n",
       "    .dataframe thead th {\n",
       "        text-align: right;\n",
       "    }\n",
       "</style>\n",
       "<table border=\"1\" class=\"dataframe\">\n",
       "  <thead>\n",
       "    <tr style=\"text-align: right;\">\n",
       "      <th></th>\n",
       "      <th>area</th>\n",
       "      <th>bedrooms</th>\n",
       "      <th>price</th>\n",
       "    </tr>\n",
       "  </thead>\n",
       "  <tbody>\n",
       "    <tr>\n",
       "      <th>0</th>\n",
       "      <td>2104</td>\n",
       "      <td>3</td>\n",
       "      <td>399900</td>\n",
       "    </tr>\n",
       "    <tr>\n",
       "      <th>1</th>\n",
       "      <td>1600</td>\n",
       "      <td>3</td>\n",
       "      <td>329900</td>\n",
       "    </tr>\n",
       "    <tr>\n",
       "      <th>2</th>\n",
       "      <td>2400</td>\n",
       "      <td>3</td>\n",
       "      <td>369000</td>\n",
       "    </tr>\n",
       "    <tr>\n",
       "      <th>3</th>\n",
       "      <td>1416</td>\n",
       "      <td>2</td>\n",
       "      <td>232000</td>\n",
       "    </tr>\n",
       "    <tr>\n",
       "      <th>4</th>\n",
       "      <td>3000</td>\n",
       "      <td>4</td>\n",
       "      <td>539900</td>\n",
       "    </tr>\n",
       "  </tbody>\n",
       "</table>\n",
       "</div>"
      ],
      "text/plain": [
       "   area  bedrooms   price\n",
       "0  2104         3  399900\n",
       "1  1600         3  329900\n",
       "2  2400         3  369000\n",
       "3  1416         2  232000\n",
       "4  3000         4  539900"
      ]
     },
     "execution_count": 3,
     "metadata": {},
     "output_type": "execute_result"
    }
   ],
   "source": [
    "df = pd.read_csv('../data/portland_housing_prices.csv')\n",
    "df.head()"
   ]
  },
  {
   "cell_type": "markdown",
   "metadata": {},
   "source": [
    "- $x \\in \\bf{R}^2$\n",
    "- $x_1^{(i)}$ - living area of of the $i^{th}$ training sample\n",
    "- $x_2^{(i)}$ - number of bedrooms in the $i^{th}$ training sample\n",
    "\n",
    "Now we need to decide the structure of hypothesis $h$, let us assume that we approximate $y$ as a linear function of $x$, i.e. - $$h_{\\theta}(x) = {\\theta}_0+  {\\theta}_1x_1 + {\\theta}_2x_2$$\n",
    "\n",
    "Where $\\theta$ are the parameters parameterizing the space of linear functions mapping from $\\bf{X}$ to $\\bf{Y}$. <br>\n",
    "Let us assume that there's an intercept term $x_0 = 1$, then $h_{\\theta}(x)$ can be represented as - \n",
    "$$h_{\\theta}(x)  = \\Sigma_{i = 1}^{d}{\\theta}_ix_i = \\theta^Tx$$\n",
    "\n",
    "Now, our goal is to learn the parameters $\\theta$. We can do so by making $h_{\\theta}(x)$ as close to $y$ as possible. **Cost function** would give us that quantitative measure.\n",
    "\n",
    "### Cost Function - \n",
    "For each value of $\\theta$ close is the $h_{\\theta}(x^{(i)})$ to $y^{i}$. \n",
    "\n",
    "For the given regression problem, we cn define the cost function (function of $\\theta$) as follows -\n",
    "$$J(\\theta) = \\frac{1}{2}\\Sigma_{i = 1}^{n}(h_{\\theta}(x^{i}) - y^{i})^2$$\n",
    "\n",
    "Minimizing this squared cost function will give rise to the **ordinary least square** solution."
   ]
  },
  {
   "cell_type": "markdown",
   "metadata": {},
   "source": [
    "## LMS Algorithm\n",
    "\n",
    "We need to find the value of $\\theta$ that minimize the $J(\\theta)$. We'll use the **gradient descent** algorithm. We start with some initial guess of $\\theta$ and iteratively converge to the optimal value of $\\theta$. \n",
    "$$\\theta_{j} := \\theta_{j} - \\alpha\\frac{\\partial J(\\theta)}{\\partial {\\theta}_j}$$\n",
    "- $\\alpha$ - learning rate \n",
    "\n",
    "Update is simultaneously applied to all the values of $j = [0, .., d]$\n",
    "\n",
    "To find the optimal value of $\\theta$ we first need to find the derivative of $J(\\theta)$ \n",
    "$$\\begin{align*}\n",
    "\\frac{\\partial J(\\theta)}{\\partial {\\theta}_i} &= \\frac{\\partial }{\\partial {\\theta}_j}\\frac{1}{2}\\Sigma_{i = 1}^{n}(h_{\\theta}(x^{(i)}) - y^{(i)})^2 \\\\\n",
    "&= \\Sigma_{i = 1}^{n}\\frac{\\partial }{\\partial {\\theta}_j}(\\theta^Tx^{(i)} - y^{(i)})^2 \\\\\n",
    "&= \\Sigma_{i = 1}^{n} (\\theta^Tx^{(i)} - y^{(i)})x_j^{(i)}\n",
    "\\end{align*}\n",
    "$$\n",
    "\n",
    "$$\n",
    "\\therefore {\\theta}_j := {\\theta}_j + \\alpha \\Sigma_{i = 1}^{n} (y^{(i)} - \\theta^Tx^{(i)})x_j^{(i)}\n",
    "$$\n",
    "\n",
    "This rule is called the **LMS** update rule or the **Widrow-hoff** learning rule. "
   ]
  },
  {
   "cell_type": "code",
   "execution_count": null,
   "metadata": {},
   "outputs": [],
   "source": []
  }
 ],
 "metadata": {
  "kernelspec": {
   "display_name": "gml",
   "language": "python",
   "name": "python3"
  },
  "language_info": {
   "codemirror_mode": {
    "name": "ipython",
    "version": 3
   },
   "file_extension": ".py",
   "mimetype": "text/x-python",
   "name": "python",
   "nbconvert_exporter": "python",
   "pygments_lexer": "ipython3",
   "version": "0.0.0"
  }
 },
 "nbformat": 4,
 "nbformat_minor": 2
}
