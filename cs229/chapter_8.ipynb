{
 "cells": [
  {
   "cell_type": "markdown",
   "metadata": {},
   "source": [
    "## Generalization"
   ]
  },
  {
   "cell_type": "markdown",
   "metadata": {},
   "source": [
    "Model Generalization - Performance of model on unseen ***test*** data. \n",
    "\n",
    "For any supervised learning problem, our task is to learn a model/hypothesis parameterized by $\\theta$, $h_{\\theta}$ using the training examples $\\{(x^{(i)}, y^{(i)})\\}_{i = 1}^n$. We do so by minimizing some cost/loss function $J_{\\theta}$. For e.g. in the case of OLS regression - \n",
    "$$\n",
    "J(\\theta) = \\frac{1}{n}\\Sigma_{i=1}^n(y^{(i)} - h_{\\theta}(x^{(i)}))^2\n",
    "$$\n",
    "The above expression is called the training loss. But it is also important to measure the performance on test (unseen) samples as well to see how well our model generalizes. This is called the **test loss**. $\\forall$ unseen data $(x,y) \\sim D$, for OLS regression, test loss is the expected value of the squared loss over the samples $(x,y)$ coming from the distribution $D$, i.e. - \n",
    "$$\n",
    "L(\\theta) = E_{(x,y) \\sim D}[(y - h_{\\theta}(x))^2]\n",
    "$$\n",
    "As the training procedure has not used the test data, the loss values are not necessarily similar and its known as the generalization gap.\n",
    "\n",
    "#### Overfitting - \n",
    "When the train loss is small but the test loss is higher. Model doesn't generalize well.\n",
    "#### Underfitting - \n",
    "When the train loss itself is very large. Model isn't fitted well by training examples.\n",
    "\n",
    "Let's see how the test error is influenced by the learning procedure and model parameterization."
   ]
  },
  {
   "cell_type": "markdown",
   "metadata": {},
   "source": [
    "### Bias-variance tradeoff"
   ]
  }
 ],
 "metadata": {
  "kernelspec": {
   "display_name": "gml",
   "language": "python",
   "name": "python3"
  },
  "language_info": {
   "codemirror_mode": {
    "name": "ipython",
    "version": 3
   },
   "file_extension": ".py",
   "mimetype": "text/x-python",
   "name": "python",
   "nbconvert_exporter": "python",
   "pygments_lexer": "ipython3",
   "version": "3.8.16"
  }
 },
 "nbformat": 4,
 "nbformat_minor": 2
}
